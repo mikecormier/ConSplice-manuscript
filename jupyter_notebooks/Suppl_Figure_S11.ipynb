{
 "cells": [
  {
   "cell_type": "code",
   "execution_count": 1,
   "metadata": {},
   "outputs": [
    {
     "name": "stderr",
     "output_type": "stream",
     "text": [
      "In /Users/michaelcormier/miniconda3/lib/python3.7/site-packages/matplotlib/mpl-data/stylelib/_classic_test.mplstyle: \n",
      "The savefig.frameon rcparam was deprecated in Matplotlib 3.1 and will be removed in 3.3.\n",
      "In /Users/michaelcormier/miniconda3/lib/python3.7/site-packages/matplotlib/mpl-data/stylelib/_classic_test.mplstyle: \n",
      "The verbose.level rcparam was deprecated in Matplotlib 3.1 and will be removed in 3.3.\n",
      "In /Users/michaelcormier/miniconda3/lib/python3.7/site-packages/matplotlib/mpl-data/stylelib/_classic_test.mplstyle: \n",
      "The verbose.fileo rcparam was deprecated in Matplotlib 3.1 and will be removed in 3.3.\n"
     ]
    }
   ],
   "source": [
    "## System\n",
    "import sys\n",
    "import os\n",
    "import gzip\n",
    "from collections import defaultdict\n",
    "\n",
    "## Pandas\n",
    "import pandas as pd\n",
    "import numpy as np\n",
    "import pyranges as pr\n",
    "\n",
    "## Plotting \n",
    "import matplotlib\n",
    "import matplotlib.pyplot as plt\n",
    "import matplotlib as mpl\n",
    "import seaborn as sns\n"
   ]
  },
  {
   "cell_type": "code",
   "execution_count": null,
   "metadata": {},
   "outputs": [],
   "source": []
  },
  {
   "cell_type": "code",
   "execution_count": 2,
   "metadata": {},
   "outputs": [],
   "source": [
    "scn1a_df = pd.read_csv(\"../data/SCN1A.ConSplice.50bp.inverse_prop.txt\", sep = \"\\t\")"
   ]
  },
  {
   "cell_type": "code",
   "execution_count": 3,
   "metadata": {},
   "outputs": [
    {
     "data": {
      "text/html": [
       "<div>\n",
       "<style scoped>\n",
       "    .dataframe tbody tr th:only-of-type {\n",
       "        vertical-align: middle;\n",
       "    }\n",
       "\n",
       "    .dataframe tbody tr th {\n",
       "        vertical-align: top;\n",
       "    }\n",
       "\n",
       "    .dataframe thead th {\n",
       "        text-align: right;\n",
       "    }\n",
       "</style>\n",
       "<table border=\"1\" class=\"dataframe\">\n",
       "  <thead>\n",
       "    <tr style=\"text-align: right;\">\n",
       "      <th></th>\n",
       "      <th>#chrom</th>\n",
       "      <th>region_start</th>\n",
       "      <th>region_end</th>\n",
       "      <th>txStart</th>\n",
       "      <th>txEnd</th>\n",
       "      <th>strand</th>\n",
       "      <th>transcript_id</th>\n",
       "      <th>gene_id</th>\n",
       "      <th>gene_symbol</th>\n",
       "      <th>region_size</th>\n",
       "      <th>ConSplice_O/E</th>\n",
       "      <th>ConSplice_Percentile</th>\n",
       "    </tr>\n",
       "  </thead>\n",
       "  <tbody>\n",
       "    <tr>\n",
       "      <th>0</th>\n",
       "      <td>2</td>\n",
       "      <td>165989160</td>\n",
       "      <td>165989209</td>\n",
       "      <td>165989160</td>\n",
       "      <td>166128022</td>\n",
       "      <td>-</td>\n",
       "      <td>ENST00000637988.1</td>\n",
       "      <td>ENSG00000144285.21</td>\n",
       "      <td>SCN1A</td>\n",
       "      <td>50</td>\n",
       "      <td>0.550771</td>\n",
       "      <td>0.234745</td>\n",
       "    </tr>\n",
       "    <tr>\n",
       "      <th>1</th>\n",
       "      <td>2</td>\n",
       "      <td>165989210</td>\n",
       "      <td>165989259</td>\n",
       "      <td>165989160</td>\n",
       "      <td>166128022</td>\n",
       "      <td>-</td>\n",
       "      <td>ENST00000637988.1</td>\n",
       "      <td>ENSG00000144285.21</td>\n",
       "      <td>SCN1A</td>\n",
       "      <td>50</td>\n",
       "      <td>-2.263002</td>\n",
       "      <td>0.684787</td>\n",
       "    </tr>\n",
       "    <tr>\n",
       "      <th>2</th>\n",
       "      <td>2</td>\n",
       "      <td>165989260</td>\n",
       "      <td>165989309</td>\n",
       "      <td>165989160</td>\n",
       "      <td>166128022</td>\n",
       "      <td>-</td>\n",
       "      <td>ENST00000637988.1</td>\n",
       "      <td>ENSG00000144285.21</td>\n",
       "      <td>SCN1A</td>\n",
       "      <td>50</td>\n",
       "      <td>-6.073674</td>\n",
       "      <td>0.796047</td>\n",
       "    </tr>\n",
       "    <tr>\n",
       "      <th>3</th>\n",
       "      <td>2</td>\n",
       "      <td>165989310</td>\n",
       "      <td>165989359</td>\n",
       "      <td>165989160</td>\n",
       "      <td>166128022</td>\n",
       "      <td>-</td>\n",
       "      <td>ENST00000637988.1</td>\n",
       "      <td>ENSG00000144285.21</td>\n",
       "      <td>SCN1A</td>\n",
       "      <td>50</td>\n",
       "      <td>-13.512912</td>\n",
       "      <td>0.875705</td>\n",
       "    </tr>\n",
       "    <tr>\n",
       "      <th>4</th>\n",
       "      <td>2</td>\n",
       "      <td>165989360</td>\n",
       "      <td>165989409</td>\n",
       "      <td>165989160</td>\n",
       "      <td>166128022</td>\n",
       "      <td>-</td>\n",
       "      <td>ENST00000637988.1</td>\n",
       "      <td>ENSG00000144285.21</td>\n",
       "      <td>SCN1A</td>\n",
       "      <td>50</td>\n",
       "      <td>-0.943869</td>\n",
       "      <td>0.515556</td>\n",
       "    </tr>\n",
       "    <tr>\n",
       "      <th>...</th>\n",
       "      <td>...</td>\n",
       "      <td>...</td>\n",
       "      <td>...</td>\n",
       "      <td>...</td>\n",
       "      <td>...</td>\n",
       "      <td>...</td>\n",
       "      <td>...</td>\n",
       "      <td>...</td>\n",
       "      <td>...</td>\n",
       "      <td>...</td>\n",
       "      <td>...</td>\n",
       "      <td>...</td>\n",
       "    </tr>\n",
       "    <tr>\n",
       "      <th>1684</th>\n",
       "      <td>2</td>\n",
       "      <td>166073360</td>\n",
       "      <td>166073409</td>\n",
       "      <td>165989160</td>\n",
       "      <td>166128022</td>\n",
       "      <td>-</td>\n",
       "      <td>ENST00000637988.1</td>\n",
       "      <td>ENSG00000144285.21</td>\n",
       "      <td>SCN1A</td>\n",
       "      <td>50</td>\n",
       "      <td>-116.575082</td>\n",
       "      <td>0.983330</td>\n",
       "    </tr>\n",
       "    <tr>\n",
       "      <th>1685</th>\n",
       "      <td>2</td>\n",
       "      <td>166073410</td>\n",
       "      <td>166073459</td>\n",
       "      <td>165989160</td>\n",
       "      <td>166128022</td>\n",
       "      <td>-</td>\n",
       "      <td>ENST00000637988.1</td>\n",
       "      <td>ENSG00000144285.21</td>\n",
       "      <td>SCN1A</td>\n",
       "      <td>50</td>\n",
       "      <td>-29.006690</td>\n",
       "      <td>0.930516</td>\n",
       "    </tr>\n",
       "    <tr>\n",
       "      <th>1686</th>\n",
       "      <td>2</td>\n",
       "      <td>166073460</td>\n",
       "      <td>166073509</td>\n",
       "      <td>165989160</td>\n",
       "      <td>166128022</td>\n",
       "      <td>-</td>\n",
       "      <td>ENST00000637988.1</td>\n",
       "      <td>ENSG00000144285.21</td>\n",
       "      <td>SCN1A</td>\n",
       "      <td>50</td>\n",
       "      <td>-15.287627</td>\n",
       "      <td>0.885569</td>\n",
       "    </tr>\n",
       "    <tr>\n",
       "      <th>1687</th>\n",
       "      <td>2</td>\n",
       "      <td>166073510</td>\n",
       "      <td>166073559</td>\n",
       "      <td>165989160</td>\n",
       "      <td>166128022</td>\n",
       "      <td>-</td>\n",
       "      <td>ENST00000637988.1</td>\n",
       "      <td>ENSG00000144285.21</td>\n",
       "      <td>SCN1A</td>\n",
       "      <td>50</td>\n",
       "      <td>-21.553985</td>\n",
       "      <td>0.910841</td>\n",
       "    </tr>\n",
       "    <tr>\n",
       "      <th>1688</th>\n",
       "      <td>2</td>\n",
       "      <td>166073560</td>\n",
       "      <td>166073609</td>\n",
       "      <td>165989160</td>\n",
       "      <td>166128022</td>\n",
       "      <td>-</td>\n",
       "      <td>ENST00000637988.1</td>\n",
       "      <td>ENSG00000144285.21</td>\n",
       "      <td>SCN1A</td>\n",
       "      <td>50</td>\n",
       "      <td>0.356141</td>\n",
       "      <td>0.264039</td>\n",
       "    </tr>\n",
       "  </tbody>\n",
       "</table>\n",
       "<p>1689 rows × 12 columns</p>\n",
       "</div>"
      ],
      "text/plain": [
       "      #chrom  region_start  region_end    txStart      txEnd strand  \\\n",
       "0          2     165989160   165989209  165989160  166128022      -   \n",
       "1          2     165989210   165989259  165989160  166128022      -   \n",
       "2          2     165989260   165989309  165989160  166128022      -   \n",
       "3          2     165989310   165989359  165989160  166128022      -   \n",
       "4          2     165989360   165989409  165989160  166128022      -   \n",
       "...      ...           ...         ...        ...        ...    ...   \n",
       "1684       2     166073360   166073409  165989160  166128022      -   \n",
       "1685       2     166073410   166073459  165989160  166128022      -   \n",
       "1686       2     166073460   166073509  165989160  166128022      -   \n",
       "1687       2     166073510   166073559  165989160  166128022      -   \n",
       "1688       2     166073560   166073609  165989160  166128022      -   \n",
       "\n",
       "          transcript_id             gene_id gene_symbol  region_size  \\\n",
       "0     ENST00000637988.1  ENSG00000144285.21       SCN1A           50   \n",
       "1     ENST00000637988.1  ENSG00000144285.21       SCN1A           50   \n",
       "2     ENST00000637988.1  ENSG00000144285.21       SCN1A           50   \n",
       "3     ENST00000637988.1  ENSG00000144285.21       SCN1A           50   \n",
       "4     ENST00000637988.1  ENSG00000144285.21       SCN1A           50   \n",
       "...                 ...                 ...         ...          ...   \n",
       "1684  ENST00000637988.1  ENSG00000144285.21       SCN1A           50   \n",
       "1685  ENST00000637988.1  ENSG00000144285.21       SCN1A           50   \n",
       "1686  ENST00000637988.1  ENSG00000144285.21       SCN1A           50   \n",
       "1687  ENST00000637988.1  ENSG00000144285.21       SCN1A           50   \n",
       "1688  ENST00000637988.1  ENSG00000144285.21       SCN1A           50   \n",
       "\n",
       "      ConSplice_O/E  ConSplice_Percentile  \n",
       "0          0.550771              0.234745  \n",
       "1         -2.263002              0.684787  \n",
       "2         -6.073674              0.796047  \n",
       "3        -13.512912              0.875705  \n",
       "4         -0.943869              0.515556  \n",
       "...             ...                   ...  \n",
       "1684    -116.575082              0.983330  \n",
       "1685     -29.006690              0.930516  \n",
       "1686     -15.287627              0.885569  \n",
       "1687     -21.553985              0.910841  \n",
       "1688       0.356141              0.264039  \n",
       "\n",
       "[1689 rows x 12 columns]"
      ]
     },
     "execution_count": 3,
     "metadata": {},
     "output_type": "execute_result"
    }
   ],
   "source": [
    "scn1a_df"
   ]
  },
  {
   "cell_type": "code",
   "execution_count": null,
   "metadata": {},
   "outputs": [],
   "source": []
  },
  {
   "cell_type": "code",
   "execution_count": 4,
   "metadata": {},
   "outputs": [],
   "source": [
    "## Rank each region in SCN1A by ConSplice score\n",
    "scn1a_df[\"Percentile Rank\"] = scn1a_df.ConSplice_Percentile.rank(pct = True)"
   ]
  },
  {
   "cell_type": "code",
   "execution_count": null,
   "metadata": {},
   "outputs": [],
   "source": []
  },
  {
   "cell_type": "code",
   "execution_count": 5,
   "metadata": {},
   "outputs": [],
   "source": [
    "## Poison exon coordinates\n",
    "pe1 = {\"start\":165999051, \"end\":165999116}\n",
    "pe2 = {\"start\":166007230, \"end\":166007293}\n",
    "pe3 = {\"start\":166060640, \"end\":166060867}"
   ]
  },
  {
   "cell_type": "code",
   "execution_count": 6,
   "metadata": {},
   "outputs": [],
   "source": [
    "## Max overlaping ConSplice score for each poison exon\n",
    "pe1_max_ConSplice = scn1a_df.loc[(scn1a_df.region_start < pe1[\"end\"]) & (scn1a_df.region_end > pe1[\"start\"]) ].ConSplice_Percentile.max()\n",
    "pe2_max_ConSplice = scn1a_df.loc[(scn1a_df.region_start < pe2[\"end\"]) & (scn1a_df.region_end > pe2[\"start\"]) ].ConSplice_Percentile.max()\n",
    "pe3_max_ConSplice = scn1a_df.loc[(scn1a_df.region_start < pe3[\"end\"]) & (scn1a_df.region_end > pe3[\"start\"]) ].ConSplice_Percentile.max()"
   ]
  },
  {
   "cell_type": "code",
   "execution_count": null,
   "metadata": {},
   "outputs": [],
   "source": []
  },
  {
   "cell_type": "code",
   "execution_count": 7,
   "metadata": {},
   "outputs": [],
   "source": [
    "## Get min ranking between all 3 poison exons\n",
    "min_pe_rank = scn1a_df.loc[scn1a_df.ConSplice_Percentile == min(pe1_max_ConSplice,pe2_max_ConSplice,pe3_max_ConSplice)][\"Percentile Rank\"].values[0]"
   ]
  },
  {
   "cell_type": "code",
   "execution_count": 8,
   "metadata": {},
   "outputs": [
    {
     "name": "stdout",
     "output_type": "stream",
     "text": [
      "The min SCN1A percentile ranking for poison exons among all ConSplice score in SCN1A is : 0.9224393132030787\n"
     ]
    }
   ],
   "source": [
    "print(\"The min SCN1A percentile ranking for poison exons among all ConSplice score in SCN1A is : {}\".format(min_pe_rank))"
   ]
  },
  {
   "cell_type": "code",
   "execution_count": null,
   "metadata": {},
   "outputs": [],
   "source": []
  },
  {
   "cell_type": "code",
   "execution_count": 9,
   "metadata": {},
   "outputs": [],
   "source": [
    "## Get CDS exon coordinates and CDS canonical splice site coordinance\n",
    "scn1a_exons = []\n",
    "\n",
    "canonical_sites = []\n",
    "\n",
    "with gzip.open(\"../data/grch38-canonical-transcript-features-gencode-v1.gtf.gz\",  \"rt\", encoding = \"utf-8\") as fh:\n",
    "    header = [\"chrom\",\"source\",\"feature\",\"start\",\"end\",\"score\",\"strand\",\"frame\",\"attribute\"]\n",
    "    for line in fh:\n",
    "        if line[0] == \"#\":\n",
    "            continue\n",
    "        line_dict = dict(zip(header,line.strip().split(\"\\t\")))\n",
    "        line_dict.update({x.strip().replace(\"\\\"\",\"\").split(\" \")[0]:x.strip().replace(\"\\\"\",\"\").split(\" \")[1] for x in line_dict[\"attribute\"].strip().split(\";\")[:-1]})\n",
    "        if line_dict[\"feature\"] == \"CDS\":\n",
    "            if line_dict[\"gene_name\"] == \"SCN1A\":\n",
    "                exon_pos = [line_dict[\"start\"], line_dict[\"end\"]]\n",
    "                scn1a_exons.append(exon_pos)\n",
    "\n",
    "                ## Add canoncial acceptor and donor site region\n",
    "                canonical_sites.append([int(line_dict[\"start\"]) - 2, int(line_dict[\"start\"])])\n",
    "                canonical_sites.append([int(line_dict[\"end\"]), int(line_dict[\"end\"]) + 2])\n",
    "                \n",
    "## Remove first and last canoncial sites, as these are not spliced \n",
    "canonical_sites = canonical_sites[1:-1]"
   ]
  },
  {
   "cell_type": "code",
   "execution_count": null,
   "metadata": {},
   "outputs": [],
   "source": []
  },
  {
   "cell_type": "code",
   "execution_count": 10,
   "metadata": {},
   "outputs": [],
   "source": [
    "## Get Coding and Noncoding ConSplice regions \n",
    "scn1a_exons_pr = pr.from_dict({\"Chromosome\":[2]*len(scn1a_exons), \"Start\":[x[0] for x in scn1a_exons], \"End\": [x[1] for x in scn1a_exons]})\n",
    "scn1a_df = scn1a_df.rename(columns = {\"#chrom\":\"Chromosome\",\"region_start\":\"Start\",\"region_end\":\"End\"})\n",
    "scn1a_df[\"location\"] = \"All\"\n",
    "scn1a_consplice_pr = pr.PyRanges(scn1a_df)\n",
    "\n",
    "noncoding_scn1a_consplice_df = scn1a_consplice_pr.overlap(scn1a_exons_pr, invert = True).df\n",
    "noncoding_scn1a_consplice_df[\"location\"] = \"Noncoding\"\n",
    "\n",
    "coding_scn1a_consplice_df = scn1a_consplice_pr.overlap(scn1a_exons_pr, invert = False).df\n",
    "coding_scn1a_consplice_df[\"location\"] = \"Coding\""
   ]
  },
  {
   "cell_type": "code",
   "execution_count": null,
   "metadata": {},
   "outputs": [],
   "source": []
  },
  {
   "cell_type": "code",
   "execution_count": 11,
   "metadata": {},
   "outputs": [],
   "source": [
    "## Get ConSplice regions that overlap canonical splice sites\n",
    "canonical_ss_pr = pr.from_dict({\"Chromosome\":[2]*len(canonical_sites), \"Start\":[x[0] for x in canonical_sites], \"End\": [x[1] for x in canonical_sites]})\n",
    "consplice_canoncial_df = scn1a_consplice_pr.overlap(canonical_ss_pr).df\n",
    "consplice_canoncial_df[\"location\"] = \"Canonical\\nSplice Site\""
   ]
  },
  {
   "cell_type": "code",
   "execution_count": null,
   "metadata": {},
   "outputs": [],
   "source": []
  },
  {
   "cell_type": "code",
   "execution_count": 12,
   "metadata": {},
   "outputs": [],
   "source": [
    "## Combine together\n",
    "scn1a_location_df = pd.concat([scn1a_df,\n",
    "                               noncoding_scn1a_consplice_df,\n",
    "                               coding_scn1a_consplice_df,\n",
    "                               consplice_canoncial_df])"
   ]
  },
  {
   "cell_type": "code",
   "execution_count": null,
   "metadata": {},
   "outputs": [],
   "source": []
  },
  {
   "cell_type": "code",
   "execution_count": 13,
   "metadata": {},
   "outputs": [
    {
     "data": {
      "image/png": "[encoded data removed]",
      "text/plain": [
       "<Figure size 864x576 with 1 Axes>"
      ]
     },
     "metadata": {
      "needs_background": "light"
     },
     "output_type": "display_data"
    }
   ],
   "source": [
    "mpl.rcParams['pdf.fonttype'] = 42\n",
    "mpl.rcParams['ps.fonttype'] = 42\n",
    "plt.rcParams['svg.fonttype'] = 'none'\n",
    "\n",
    "fig, ax = plt.subplots(figsize = (12,8))\n",
    "sns.set(font='Arial', style = \"white\")\n",
    "sns.set_context(\"paper\", font_scale = 2)\n",
    "sns.despine()\n",
    "\n",
    "\n",
    "sns.boxplot(x = \"location\", y = \"ConSplice_Percentile\", data = scn1a_location_df, color = sns.color_palette(\"colorblind\")[0] )\n",
    "sns.scatterplot(x = [0,0,0], y = [pe1_max_ConSplice,pe2_max_ConSplice,pe3_max_ConSplice], s = 100, color = sns.color_palette(\"colorblind\")[3], edgecolor=\"black\")\n",
    "sns.scatterplot(x = [1,1,1], y = [pe1_max_ConSplice,pe2_max_ConSplice,pe3_max_ConSplice], s = 100, color = sns.color_palette(\"colorblind\")[3], edgecolor=\"black\")\n",
    "sns.scatterplot(x = [2,2,2], y = [pe1_max_ConSplice,pe2_max_ConSplice,pe3_max_ConSplice], s = 100, color = sns.color_palette(\"colorblind\")[3], edgecolor=\"black\")\n",
    "sns.scatterplot(x = [3,3,3], y = [pe1_max_ConSplice,pe2_max_ConSplice,pe3_max_ConSplice], s = 100, color = sns.color_palette(\"colorblind\")[3], edgecolor=\"black\", label = \"Poison Exon\")\n",
    "\n",
    "ax.set_xlabel(\"\")\n",
    "\n",
    "ax.set_ylabel(\"ConSplice score\", fontsize = 35)\n",
    "ax.set_title(\"SCN1A ConSplice score distribution\", fontsize = 40)\n",
    "ax.tick_params(axis='x', labelsize= 30 )\n",
    "ax.tick_params(axis='y', labelsize= 30 )\n",
    "\n",
    "plt.legend(loc = \"center right\", fontsize = 25)\n",
    "\n",
    "plt.savefig('../figures/suppl_figure11.svg')"
   ]
  },
  {
   "cell_type": "code",
   "execution_count": null,
   "metadata": {},
   "outputs": [],
   "source": []
  },
  {
   "cell_type": "code",
   "execution_count": 14,
   "metadata": {},
   "outputs": [
    {
     "data": {
      "text/plain": [
       "0.9684079643103696"
      ]
     },
     "execution_count": 14,
     "metadata": {},
     "output_type": "execute_result"
    }
   ],
   "source": [
    "coding_scn1a_consplice_df.ConSplice_Percentile.median()"
   ]
  },
  {
   "cell_type": "code",
   "execution_count": 15,
   "metadata": {},
   "outputs": [
    {
     "data": {
      "text/plain": [
       "0.9516398447101676"
      ]
     },
     "execution_count": 15,
     "metadata": {},
     "output_type": "execute_result"
    }
   ],
   "source": [
    "min([pe1_max_ConSplice,pe2_max_ConSplice,pe3_max_ConSplice])"
   ]
  },
  {
   "cell_type": "code",
   "execution_count": 16,
   "metadata": {},
   "outputs": [
    {
     "data": {
      "text/plain": [
       "0.01676811960020197"
      ]
     },
     "execution_count": 16,
     "metadata": {},
     "output_type": "execute_result"
    }
   ],
   "source": [
    "coding_scn1a_consplice_df.ConSplice_Percentile.median() - min([pe1_max_ConSplice,pe2_max_ConSplice,pe3_max_ConSplice])"
   ]
  },
  {
   "cell_type": "code",
   "execution_count": null,
   "metadata": {},
   "outputs": [],
   "source": []
  }
 ],
 "metadata": {
  "kernelspec": {
   "display_name": "Python 3",
   "language": "python",
   "name": "python3"
  },
  "language_info": {
   "codemirror_mode": {
    "name": "ipython",
    "version": 3
   },
   "file_extension": ".py",
   "mimetype": "text/x-python",
   "name": "python",
   "nbconvert_exporter": "python",
   "pygments_lexer": "ipython3",
   "version": "3.7.6"
  }
 },
 "nbformat": 4,
 "nbformat_minor": 4
}
