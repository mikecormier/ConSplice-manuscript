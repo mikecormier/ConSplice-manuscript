{
 "cells": [
  {
   "cell_type": "code",
   "execution_count": 1,
   "metadata": {},
   "outputs": [
    {
     "name": "stderr",
     "output_type": "stream",
     "text": [
      "In /Users/michaelcormier/miniconda3/lib/python3.7/site-packages/matplotlib/mpl-data/stylelib/_classic_test.mplstyle: \n",
      "The savefig.frameon rcparam was deprecated in Matplotlib 3.1 and will be removed in 3.3.\n",
      "In /Users/michaelcormier/miniconda3/lib/python3.7/site-packages/matplotlib/mpl-data/stylelib/_classic_test.mplstyle: \n",
      "The verbose.level rcparam was deprecated in Matplotlib 3.1 and will be removed in 3.3.\n",
      "In /Users/michaelcormier/miniconda3/lib/python3.7/site-packages/matplotlib/mpl-data/stylelib/_classic_test.mplstyle: \n",
      "The verbose.fileo rcparam was deprecated in Matplotlib 3.1 and will be removed in 3.3.\n"
     ]
    }
   ],
   "source": [
    "## System\n",
    "import sys\n",
    "import os\n",
    "from collections import defaultdict\n",
    "\n",
    "## Pandas\n",
    "import pandas as pd\n",
    "import numpy as np\n",
    "\n",
    "## Stats\n",
    "import statsmodels.api as sm\n",
    "import statsmodels.stats.multitest as smm\n",
    "import scipy.stats as stats\n",
    "\n",
    "## Plotting \n",
    "import matplotlib\n",
    "import matplotlib as mpl\n",
    "import matplotlib.pyplot as plt\n",
    "import seaborn as sns\n",
    "\n",
    "## Fig utils \n",
    "from fig_utils import get_score_bin"
   ]
  },
  {
   "cell_type": "code",
   "execution_count": null,
   "metadata": {},
   "outputs": [],
   "source": []
  },
  {
   "cell_type": "code",
   "execution_count": 2,
   "metadata": {},
   "outputs": [],
   "source": [
    "## genic ConSplice file path\n",
    "genic_consplice_file = \"../data/ConSplice.gene.scores.autosome.txt\""
   ]
  },
  {
   "cell_type": "code",
   "execution_count": null,
   "metadata": {},
   "outputs": [],
   "source": []
  },
  {
   "cell_type": "code",
   "execution_count": 3,
   "metadata": {},
   "outputs": [],
   "source": [
    "## score columns\n",
    "consplice_col = \"weighted_sc_percentile\""
   ]
  },
  {
   "cell_type": "code",
   "execution_count": null,
   "metadata": {},
   "outputs": [],
   "source": []
  },
  {
   "cell_type": "code",
   "execution_count": 4,
   "metadata": {},
   "outputs": [],
   "source": [
    "## Read in the genic ConSplice scores into pandas data frame\n",
    "ConSplice_df = pd.read_csv(genic_consplice_file, sep = \"\\t\", index_col = False)"
   ]
  },
  {
   "cell_type": "code",
   "execution_count": 5,
   "metadata": {},
   "outputs": [],
   "source": [
    "## Remove subversion on gene id\n",
    "ConSplice_df[\"gene_id\"] = ConSplice_df.gene_id.apply(lambda x: x.strip().split(\".\")[0])"
   ]
  },
  {
   "cell_type": "code",
   "execution_count": null,
   "metadata": {},
   "outputs": [],
   "source": []
  },
  {
   "cell_type": "code",
   "execution_count": 6,
   "metadata": {},
   "outputs": [],
   "source": [
    "## Convert info to dict\n",
    "by_gene_ConSplice_scores = ConSplice_df[[\"gene_id\",\"max_exon_number\",\"cds_exon_count\",consplice_col]].set_index(\"gene_id\").transpose().to_dict()"
   ]
  },
  {
   "cell_type": "code",
   "execution_count": null,
   "metadata": {},
   "outputs": [],
   "source": []
  },
  {
   "cell_type": "code",
   "execution_count": 7,
   "metadata": {},
   "outputs": [],
   "source": [
    "## Load VG values\n",
    "vg_df = pd.read_csv(\"../data/Vg.gene_level.ANEVA_tableS1.weighted_harmonic_mean.txt\", header = 1, sep=\"\\t\", index_col = False)"
   ]
  },
  {
   "cell_type": "code",
   "execution_count": null,
   "metadata": {},
   "outputs": [],
   "source": []
  },
  {
   "cell_type": "code",
   "execution_count": 8,
   "metadata": {},
   "outputs": [],
   "source": [
    "## Add ConSpliec scores to VG values by gene\n",
    "vg_df[\"constraint_percentile\"] = vg_df.apply(lambda x: by_gene_ConSplice_scores[x[\"#GeneID\"]][consplice_col] if x[\"#GeneID\"] in by_gene_ConSplice_scores else -0.1, axis = 1)\n",
    "vg_df[\"max_exon_number\"] = vg_df.apply(lambda x: by_gene_ConSplice_scores[x[\"#GeneID\"]][\"max_exon_number\"] if x[\"#GeneID\"] in by_gene_ConSplice_scores else -0.1, axis = 1)\n",
    "vg_df[\"cds_exon_count\"] = vg_df.apply(lambda x: by_gene_ConSplice_scores[x[\"#GeneID\"]][\"cds_exon_count\"] if x[\"#GeneID\"] in by_gene_ConSplice_scores else -0.1, axis = 1)\n"
   ]
  },
  {
   "cell_type": "code",
   "execution_count": null,
   "metadata": {},
   "outputs": [],
   "source": []
  },
  {
   "cell_type": "code",
   "execution_count": 9,
   "metadata": {},
   "outputs": [],
   "source": [
    "## Get the splicing constarint decile for each variant\n",
    "vg_df[\"constraint_percentile_bin\"] = vg_df.apply(get_score_bin, score_column = \"constraint_percentile\", axis = 1)"
   ]
  },
  {
   "cell_type": "code",
   "execution_count": null,
   "metadata": {},
   "outputs": [],
   "source": []
  },
  {
   "cell_type": "code",
   "execution_count": 10,
   "metadata": {},
   "outputs": [],
   "source": [
    "## Update bin mapping for plotting\n",
    "order = [\"0.0-0.1\",\"0.1-0.2\",\"0.2-0.3\",\"0.3-0.4\",\"0.4-0.5\",\"0.5-0.6\",\"0.6-0.7\",\"0.7-0.8\",\"0.8-0.9\",\"0.9-1.0\"]\n",
    "\n",
    "bin_mapping = dict()\n",
    "for i, b in enumerate(order):\n",
    "    bin_mapping[b] = i \n",
    "\n",
    "bin_mapping[\"-1.0\"] = -1.0\n",
    "\n",
    "\n",
    "vg_df[\"constraint_percentile_bin_int\"] = vg_df[\"constraint_percentile_bin\"].apply(lambda x: bin_mapping[x])\n",
    "\n",
    "vg_df[\"constraint_percentile_int\"] = vg_df[\"constraint_percentile\"] * 10"
   ]
  },
  {
   "cell_type": "code",
   "execution_count": null,
   "metadata": {},
   "outputs": [],
   "source": []
  },
  {
   "cell_type": "code",
   "execution_count": 11,
   "metadata": {},
   "outputs": [],
   "source": [
    "vg_df[\"zscore\"] = stats.zscore(vg_df.Avg_VG)"
   ]
  },
  {
   "cell_type": "code",
   "execution_count": 12,
   "metadata": {},
   "outputs": [
    {
     "name": "stdout",
     "output_type": "stream",
     "text": [
      "Genes with a vG value >= 10 stds from the mean: 20\n"
     ]
    }
   ],
   "source": [
    "print(\"Genes with a vG value >= 10 stds from the mean: {}\".format( vg_df[vg_df.zscore >= 7].shape[0]))"
   ]
  },
  {
   "cell_type": "code",
   "execution_count": null,
   "metadata": {},
   "outputs": [],
   "source": []
  },
  {
   "cell_type": "code",
   "execution_count": 13,
   "metadata": {},
   "outputs": [],
   "source": [
    "## Ordinary Least Squares (OLS) Linear regression\n",
    "\n",
    "## Remove genes with a vG value >= 10 standard deviations from the mean.\n",
    "\n",
    "X = vg_df.loc[(vg_df.constraint_percentile >= 0) & (vg_df.zscore < 10)].sort_values(by = \"constraint_percentile_bin\")[\"constraint_percentile_bin_int\"]\n",
    "Y = vg_df.loc[(vg_df.constraint_percentile >= 0) & (vg_df.zscore < 10)].sort_values(by = \"constraint_percentile_bin\")[\"Avg_VG\"]\n",
    "X2 = sm.add_constant(X)\n",
    "\n",
    "est = sm.OLS(Y, X2)\n",
    "\n",
    "est2 = est.fit()"
   ]
  },
  {
   "cell_type": "code",
   "execution_count": 14,
   "metadata": {},
   "outputs": [
    {
     "name": "stdout",
     "output_type": "stream",
     "text": [
      "                            OLS Regression Results                            \n",
      "==============================================================================\n",
      "Dep. Variable:                 Avg_VG   R-squared:                       0.012\n",
      "Model:                            OLS   Adj. R-squared:                  0.011\n",
      "Method:                 Least Squares   F-statistic:                     136.4\n",
      "Date:                Thu, 13 Jan 2022   Prob (F-statistic):           2.49e-31\n",
      "Time:                        12:36:11   Log-Likelihood:                 27981.\n",
      "No. Observations:               11647   AIC:                        -5.596e+04\n",
      "Df Residuals:                   11645   BIC:                        -5.594e+04\n",
      "Df Model:                           1                                         \n",
      "Covariance Type:            nonrobust                                         \n",
      "=================================================================================================\n",
      "                                    coef    std err          t      P>|t|      [0.025      0.975]\n",
      "-------------------------------------------------------------------------------------------------\n",
      "const                             0.0103      0.000     26.139      0.000       0.010       0.011\n",
      "constraint_percentile_bin_int    -0.0008    7.1e-05    -11.677      0.000      -0.001      -0.001\n",
      "==============================================================================\n",
      "Omnibus:                    24181.218   Durbin-Watson:                   2.011\n",
      "Prob(Omnibus):                  0.000   Jarque-Bera (JB):         93377949.257\n",
      "Skew:                          17.740   Prob(JB):                         0.00\n",
      "Kurtosis:                     440.215   Cond. No.                         11.0\n",
      "==============================================================================\n",
      "\n",
      "Notes:\n",
      "[1] Standard Errors assume that the covariance matrix of the errors is correctly specified.\n"
     ]
    }
   ],
   "source": [
    "print(est2.summary())"
   ]
  },
  {
   "cell_type": "code",
   "execution_count": 15,
   "metadata": {},
   "outputs": [
    {
     "name": "stdout",
     "output_type": "stream",
     "text": [
      "OLS p-value: 2.4880703251489154e-31\n"
     ]
    }
   ],
   "source": [
    "print(\"OLS p-value: {}\".format(est2.pvalues.constraint_percentile_bin_int))"
   ]
  },
  {
   "cell_type": "code",
   "execution_count": null,
   "metadata": {},
   "outputs": [],
   "source": []
  },
  {
   "cell_type": "code",
   "execution_count": 19,
   "metadata": {},
   "outputs": [
    {
     "data": {
      "image/png": "[encoded data removed]",
      "text/plain": [
       "<Figure size 1080x720 with 1 Axes>"
      ]
     },
     "metadata": {},
     "output_type": "display_data"
    }
   ],
   "source": [
    "mpl.rcParams['pdf.fonttype'] = 42\n",
    "mpl.rcParams['ps.fonttype'] = 42\n",
    "plt.rcParams['svg.fonttype'] = 'none'\n",
    "\n",
    "fig, ax = plt.subplots(figsize = (15,10))\n",
    "sns.set(font='Arial', style = \"white\")\n",
    "sns.set_context(\"paper\", font_scale = 2)\n",
    "sns.despine()\n",
    "\n",
    "\n",
    "order = [\"0.0-0.1\",\"0.1-0.2\",\"0.2-0.3\",\"0.3-0.4\",\"0.4-0.5\",\"0.5-0.6\",\"0.6-0.7\",\"0.7-0.8\",\"0.8-0.9\",\"0.9-1.0\"]\n",
    "box_plot = sns.boxplot(x = \"constraint_percentile_bin\", \n",
    "                       y = \"Avg_VG\", \n",
    "                       data = vg_df.loc[(vg_df.constraint_percentile >= 0) & (vg_df.zscore < 10)].sort_values(by = \"constraint_percentile_bin\"),\n",
    "                       order = order,\n",
    "                       showfliers=False,\n",
    "                       color = sns.color_palette()[9],\n",
    "                       ax = ax)\n",
    "\n",
    "labels = vg_df.loc[(vg_df.constraint_percentile >= 0) & (vg_df.zscore < 10)].groupby(\"constraint_percentile_bin\").Avg_VG.count().tolist()\n",
    "\n",
    "\n",
    "ax.set_yscale(\"log\")\n",
    "\n",
    "\n",
    "ax.tick_params(axis=\"x\", labelsize=40, rotation= 90)\n",
    "ax.tick_params(axis=\"y\", labelsize=40)    \n",
    "\n",
    "plt.ylim(0.0001, 0.03)\n",
    "plt.ylabel(\"$V^G$\", fontsize = 50)\n",
    "plt.xlabel(\"ConSplice bin\", fontsize = 50)\n",
    "\n",
    "plt.savefig('../figures/figure2_B.svg')"
   ]
  },
  {
   "cell_type": "code",
   "execution_count": null,
   "metadata": {},
   "outputs": [],
   "source": []
  },
  {
   "cell_type": "code",
   "execution_count": 17,
   "metadata": {},
   "outputs": [],
   "source": [
    "## Get mean vG values for each bin\n",
    "mean_vg_by_bin = vg_df[(vg_df.constraint_percentile >= 0) & (vg_df.zscore < 10)].groupby(\"constraint_percentile_bin\").Avg_VG.mean()"
   ]
  },
  {
   "cell_type": "code",
   "execution_count": 18,
   "metadata": {},
   "outputs": [
    {
     "name": "stdout",
     "output_type": "stream",
     "text": [
      "Mean fold difference between lowest (0.0-0.1) and highest (0.9-1.0) ConSplice bin: 4.231043256880445\n"
     ]
    }
   ],
   "source": [
    "print(\"Mean fold difference between lowest (0.0-0.1) and highest (0.9-1.0) ConSplice bin: {}\".format(mean_vg_by_bin[\"0.0-0.1\"] / mean_vg_by_bin[\"0.9-1.0\"]))"
   ]
  },
  {
   "cell_type": "code",
   "execution_count": null,
   "metadata": {},
   "outputs": [],
   "source": []
  },
  {
   "cell_type": "code",
   "execution_count": null,
   "metadata": {},
   "outputs": [],
   "source": []
  },
  {
   "cell_type": "code",
   "execution_count": null,
   "metadata": {},
   "outputs": [],
   "source": []
  }
 ],
 "metadata": {
  "kernelspec": {
   "display_name": "Python 3",
   "language": "python",
   "name": "python3"
  },
  "language_info": {
   "codemirror_mode": {
    "name": "ipython",
    "version": 3
   },
   "file_extension": ".py",
   "mimetype": "text/x-python",
   "name": "python",
   "nbconvert_exporter": "python",
   "pygments_lexer": "ipython3",
   "version": "3.7.6"
  }
 },
 "nbformat": 4,
 "nbformat_minor": 4
}
